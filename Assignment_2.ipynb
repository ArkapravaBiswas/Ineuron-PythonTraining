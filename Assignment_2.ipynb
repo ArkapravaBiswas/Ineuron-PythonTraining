{
 "cells": [
  {
   "cell_type": "markdown",
   "metadata": {},
   "source": [
    "TASK 1"
   ]
  },
  {
   "cell_type": "code",
   "execution_count": 71,
   "metadata": {},
   "outputs": [
    {
     "name": "stdout",
     "output_type": "stream",
     "text": [
      "The output of the myreaduce function is :  50\n"
     ]
    }
   ],
   "source": [
    "\"\"\"1.1\n",
    "Write a Python Program to implement your own myreduce() function which works exactly like\n",
    "Python's built-in function reduce()\"\"\"\n",
    "\n",
    "\n",
    "#the function used for the myreduce function is isgreater() which basically calculates the highest of the two number \n",
    "#passed from the list\n",
    "def myreduce(function_name,li):\n",
    "    max=li[0]\n",
    "    for i in li[1:]:\n",
    "        max=function_name(max,i)\n",
    "    return max\n",
    "\n",
    "def isgreater(a,b):\n",
    "    if a>=b:\n",
    "        return a\n",
    "    else:\n",
    "        return b\n",
    "    \n",
    "result=myreduce(isgreater,[1,2,20,4,50,3,1])\n",
    "print(\"The output of the myreaduce function is : \",result)"
   ]
  },
  {
   "cell_type": "code",
   "execution_count": 74,
   "metadata": {},
   "outputs": [
    {
     "name": "stdout",
     "output_type": "stream",
     "text": [
      "the required output is :  [-5, 5, 15, 20]\n"
     ]
    }
   ],
   "source": [
    "\"\"\"1.2\n",
    "Write a Python program to implement your own myfilter() function which works exactly like\n",
    "Python's built-in function filter()\"\"\"\n",
    "\n",
    "#the function used for the myfilter function is ismultipleof5() which basically calculates if the elements are multiple of 5 \n",
    "#passed from the list\n",
    "def myfilter(function_name,li):\n",
    "    finalli=[]\n",
    "    for i in li:\n",
    "        if(function_name(i))==True:\n",
    "            finalli.append(i)         \n",
    "    return finalli \n",
    "\n",
    "def ismultipleof5(num):\n",
    "    if (num%5)==0:\n",
    "        return True\n",
    "    else:\n",
    "        return False\n",
    "    \n",
    "\n",
    "final=myfilter(ismultipleof5,[2,-5,5,-7,-8,15,20])\n",
    "print(\"the required output is : \",final)"
   ]
  },
  {
   "cell_type": "code",
   "execution_count": 90,
   "metadata": {},
   "outputs": [
    {
     "name": "stdout",
     "output_type": "stream",
     "text": [
      "The required output is :  ['A', 'C', 'A', 'D', 'G', 'I', 'L', 'D']\n",
      "The required output list is :   ['x', 'xx', 'xxx', 'xxxx', 'y', 'yy', 'yyy', 'yyyy', 'z', 'zz', 'zzz', 'zzzz']\n",
      "The required output list is :  ['x', 'y', 'z', 'xx', 'yy', 'zz', 'xxx', 'yyy', 'zzz', 'xxxx', 'yyyy', 'zzzz']\n",
      "The required output is : [[2], [3], [4], [3], [4], [5], [4], [5], [6]]\n",
      "The required output is : [[2, 3, 4, 5], [3, 4, 5, 6], [4, 5, 6, 7], [5, 6, 7, 8]]\n",
      "The required output is :[(1, 1), (2, 1), (3, 1), (1, 2), (2, 2), (3, 2), (1, 3), (2, 3), (3, 3)]\n"
     ]
    }
   ],
   "source": [
    "\"\"\"2.\n",
    "Implement List comprehensions to produce the following lists.\n",
    "Write List comprehensions to produce the following Lists\n",
    "['A', 'C', 'A', 'D', 'G', 'I', ’L’, ‘ D’]\n",
    "['x', 'xx', 'xxx', 'xxxx', 'y', 'yy', 'yyy', 'yyyy', 'z', 'zz', 'zzz', 'zzzz']\n",
    "['x', 'y', 'z', 'xx', 'yy', 'zz', 'xx', 'yy', 'zz', 'xxxx', 'yyyy', 'zzzz']\n",
    "[[2], [3], [4], [3], [4], [5], [4], [5], [6]]\n",
    "[[2, 3, 4, 5], [3, 4, 5, 6], [4, 5, 6, 7], [5, 6, 7, 8]]\n",
    "[(1, 1), (2, 1), (3, 1), (1, 2), (2, 2), (3, 2), (1, 3), (2, 3), (3, 3)]\"\"\"\n",
    "\n",
    "#first Case : ['A', 'C', 'A', 'D', 'G', 'I', ’L’, ‘ D’]\n",
    "\n",
    "input = \"ACADGILD\"\n",
    "output = [ letter for letter in input ]\n",
    "print (\"The required output is : \", str(output))\n",
    "\n",
    "#second case : ['x', 'xx', 'xxx', 'xxxx', 'y', 'yy', 'yyy', 'yyyy', 'z', 'zz', 'zzz', 'zzzz']\n",
    "\n",
    "input_list = ['x','y','z']\n",
    "output_list = [ item*num for item in input_list for num in range(1,5)  ]\n",
    "print(\"The required output list is :  \",(output_list))\n",
    "\n",
    "#third case : ['x', 'y', 'z', 'xx', 'yy', 'zz', 'xx', 'yy', 'zz', 'xxxx', 'yyyy', 'zzzz']\n",
    "\n",
    "input_list = ['x','y','z']\n",
    "result = [ item*num for num in range(1,5) for item in input_list  ]\n",
    "print(\"The required output list is :  \" +   str(result))\n",
    "\n",
    "#Fourth Case: [[2], [3], [4], [3], [4], [5], [4], [5], [6]]\n",
    "\n",
    "input_list = [2,3,4]\n",
    "result = [ [element+num] for element in input_list for num in range(0,3)]\n",
    "print(\"The required output is : \" +  str(result))\n",
    "\n",
    "#Fifth Case: [[2, 3, 4, 5], [3, 4, 5, 6], [4, 5, 6, 7], [5, 6, 7, 8]]\n",
    "\n",
    "input_list = [2,3,4,5]\n",
    "result = [ [item+num for item in input_list] for num in range(0,4)  ]\n",
    "print(\"The required output is : \" +  str(result))\n",
    "\n",
    "#Sixth Case: [(1, 1), (2, 1), (3, 1), (1, 2), (2, 2), (3, 2), (1, 3), (2, 3), (3, 3)]\n",
    "\n",
    "input_list=[1,2,3]\n",
    "output_list = [ (b,a) for a in input_list for b in input_list]\n",
    "print(\"The required output is :\" +  str(output_list))"
   ]
  },
  {
   "cell_type": "code",
   "execution_count": 95,
   "metadata": {},
   "outputs": [
    {
     "name": "stdout",
     "output_type": "stream",
     "text": [
      "the required longest word is :  ffffffffffffff\n"
     ]
    }
   ],
   "source": [
    "\"\"\"\"3.\n",
    "Implement a function longestWord() that takes a list of words and returns the longest one.\"\"\"\n",
    "\n",
    "def longestword(li) :\n",
    "    maxlength=0\n",
    "    word=''\n",
    "    for i in range(len(li)):\n",
    "        length=len(li[i])\n",
    "        if length>maxlength:\n",
    "            maxlength=length\n",
    "            word=li[i]\n",
    "        else:\n",
    "            continue\n",
    "    return word\n",
    "\n",
    "list=['aaa','bbbbb','c','ddddee','ss','ffffffffffffff']\n",
    "\n",
    "longest_word=longestword(list)\n",
    "print(\"the required longest word is : \",longest_word)"
   ]
  },
  {
   "cell_type": "markdown",
   "metadata": {},
   "source": [
    "TASK 2"
   ]
  },
  {
   "cell_type": "code",
   "execution_count": 102,
   "metadata": {},
   "outputs": [
    {
     "name": "stdout",
     "output_type": "stream",
     "text": [
      "The required area of the triangle is :  6.0\n"
     ]
    }
   ],
   "source": [
    "\"\"\"1.1\n",
    "Write a Python Program(with class concepts) to find the area of the triangle using the below\n",
    "formula.\n",
    "area = (s*(s-a)*(s-b)*(s-c)) ** 0.5\n",
    "Function to take the length of the sides of triangle from user should be defined in the parent\n",
    "class and function to calculate the area should be defined in subclass\"\"\"\n",
    "\n",
    "class par:\n",
    "    def __init__(self,area,base,height):\n",
    "        self.a=area\n",
    "        self.b=base\n",
    "        self.c=height\n",
    "   \n",
    "    \n",
    "class child(par):\n",
    "    \n",
    "    def __init__(self,a,b,c):\n",
    "        super().__init__(a,b,c)\n",
    "  \n",
    "        \n",
    "    def area(self):\n",
    "        \n",
    "        s=((self.a+self.b+self.c)/2)\n",
    "        final=(s*(s-self.a)*(s-self.b)*(s-self.c)) ** 0.5\n",
    "        return final\n",
    "\n",
    "ch=child(3,4,5)\n",
    "print(\"The required area of the triangle is : \",str(ch.area()))\n"
   ]
  },
  {
   "cell_type": "code",
   "execution_count": 108,
   "metadata": {},
   "outputs": [
    {
     "name": "stdout",
     "output_type": "stream",
     "text": [
      "the required output is :  ['aaa', 'bbbbb', 'ddddee', 'ffffffffffffff']\n"
     ]
    }
   ],
   "source": [
    "\"\"\"1.2\n",
    "Write a function filter_long_words() that takes a list of words and an integer n and returns the list\n",
    "of words that are longer than n.\"\"\"\n",
    "\n",
    "\n",
    "list=['aaa','bbbbb','c','ddddee','ss','ffffffffffffff']\n",
    "\n",
    "def longestwords(li,num) :\n",
    "    final_list=[]\n",
    "    for i in range(len(li)):\n",
    "        length=len(li[i])\n",
    "        if length>num:\n",
    "            final_list.append(li[i])\n",
    "        else:\n",
    "            continue\n",
    "            \n",
    "    return final_list\n",
    "\n",
    "num=2\n",
    "outputli=longestwords(list,num)\n",
    "print(\"the required output is : \",outputli)"
   ]
  },
  {
   "cell_type": "code",
   "execution_count": 111,
   "metadata": {},
   "outputs": [
    {
     "name": "stdout",
     "output_type": "stream",
     "text": [
      "the required outptu is :  [2, 3, 4]\n"
     ]
    }
   ],
   "source": [
    "\"\"\"2.1\n",
    "Write a Python program using function concept that maps list of words into a list of integers\n",
    "representing the lengths of the corresponding words .\n",
    "Hint: If a list [ ab,cde,erty] is passed on to the python function output should come as [2,3,4]\n",
    "Here 2,3 and 4 are the lengths of the words in the list.\"\"\"\n",
    "\n",
    "list=['ab','cde','erty']\n",
    "\n",
    "def wordlength(li) :\n",
    "    final=[]\n",
    "    for i in range(len(li)):\n",
    "        length=len(li[i])\n",
    "        final.append(length)\n",
    "\n",
    "            \n",
    "    return final\n",
    "\n",
    "\n",
    "lengths=wordlength(list)\n",
    "print(\"the required outptu is : \",lengths)"
   ]
  },
  {
   "cell_type": "code",
   "execution_count": 116,
   "metadata": {},
   "outputs": [
    {
     "name": "stdout",
     "output_type": "stream",
     "text": [
      "the input letter is :  H\n",
      "the required output is :  False\n"
     ]
    }
   ],
   "source": [
    "\"\"\"2.2\n",
    "Write a Python function which takes a character (i.e. a string of length 1) and returns True if it is\n",
    "a vowel, False otherwise.\"\"\"\n",
    "\n",
    "\n",
    "def isvowel(char):\n",
    "    print(\"the input letter is : \",char)\n",
    "    str='aeiou'\n",
    "    for i in range(len(str)):\n",
    "        if ((char==str[i]) or (char==str[i].upper())):\n",
    "            return True\n",
    "    else:\n",
    "        return False      \n",
    "output=isvowel('H')\n",
    "print(\"the required output is : \",output)\n"
   ]
  }
 ],
 "metadata": {
  "kernelspec": {
   "display_name": "Python 3",
   "language": "python",
   "name": "python3"
  },
  "language_info": {
   "codemirror_mode": {
    "name": "ipython",
    "version": 3
   },
   "file_extension": ".py",
   "mimetype": "text/x-python",
   "name": "python",
   "nbconvert_exporter": "python",
   "pygments_lexer": "ipython3",
   "version": "3.7.6"
  }
 },
 "nbformat": 4,
 "nbformat_minor": 4
}
